{
 "cells": [
  {
   "cell_type": "code",
   "execution_count": 1,
   "metadata": {},
   "outputs": [],
   "source": [
    "%load_ext autoreload\n",
    "%autoreload 1\n",
    "\n",
    "%aimport rfp_scraper.services.scrape_sam_gov\n",
    "\n",
    "import asyncio\n",
    "\n",
    "from rfp_scraper import constants\n",
    "from rfp_scraper.services import output_directories\n",
    "from rfp_scraper.services import scrape_sam_gov"
   ]
  },
  {
   "cell_type": "code",
   "execution_count": 2,
   "metadata": {},
   "outputs": [],
   "source": [
    "with open(output_directories.SAM_GOV_SCRAPES_DIR / \"2025-05-16__1747435710__1747522110.json\", \"rb\") as f:\n",
    "    all_opportunities = scrape_sam_gov.SamGovOpportunityListAdapter.validate_json(f.read())"
   ]
  },
  {
   "cell_type": "code",
   "execution_count": 4,
   "metadata": {},
   "outputs": [
    {
     "name": "stdout",
     "output_type": "stream",
     "text": [
      "\u001b[2m2025-05-17 23:26:11\u001b[0m [\u001b[32m\u001b[1minfo     \u001b[0m] \u001b[1mStarting to convert SamGov opportunities to descriptions\u001b[0m [\u001b[0m\u001b[1m\u001b[34mrfp_scraper.services.scrape_sam_gov.fetch_sam_gov_opportunity_descriptions\u001b[0m]\u001b[0m \u001b[36mcnt_opportunities\u001b[0m=\u001b[35m1\u001b[0m\n"
     ]
    },
    {
     "name": "stdout",
     "output_type": "stream",
     "text": [
      "HTTP Request: GET https://api.sam.gov/prod/opportunities/v1/noticedesc?api_key=5h62Faz1slrldZO4fAl5KqjPEaybBMLAXPUCidV1 \"HTTP/1.1 429 \"\n",
      "\u001b[2m2025-05-17 23:26:11\u001b[0m [\u001b[33m\u001b[1mwarning  \u001b[0m] \u001b[1mSamGov Rate limit exceeded    \u001b[0m [\u001b[0m\u001b[1m\u001b[34mrfp_scraper.services.scrape_sam_gov.fetch_sam_gov_opportunity_descriptions\u001b[0m]\u001b[0m \u001b[36mopportunity_id\u001b[0m=\u001b[35mf782476f53d14d9b900e57ae8f1e241f\u001b[0m \u001b[36mresponse_text\u001b[0m=\u001b[35m'{\\n  \"error\": {\\n    \"code\": \"OVER_RATE_LIMIT\",\\n    \"message\": \"The API key has exceeded the rate limits.\"\\n  }\\n}'\u001b[0m \u001b[36mstatus\u001b[0m=\u001b[35m429\u001b[0m\n"
     ]
    },
    {
     "ename": "HTTPStatusError",
     "evalue": "Client error '429 ' for url 'https://api.sam.gov/prod/opportunities/v1/noticedesc?api_key=5h62Faz1slrldZO4fAl5KqjPEaybBMLAXPUCidV1'\nFor more information check: https://developer.mozilla.org/en-US/docs/Web/HTTP/Status/429",
     "output_type": "error",
     "traceback": [
      "\u001b[31m---------------------------------------------------------------------------\u001b[39m",
      "\u001b[31mHTTPStatusError\u001b[39m                           Traceback (most recent call last)",
      "\u001b[36mCell\u001b[39m\u001b[36m \u001b[39m\u001b[32mIn[4]\u001b[39m\u001b[32m, line 3\u001b[39m\n\u001b[32m      1\u001b[39m all_opportunities[\u001b[32m0\u001b[39m]\n\u001b[32m----> \u001b[39m\u001b[32m3\u001b[39m foo = \u001b[38;5;28;01mawait\u001b[39;00m scrape_sam_gov.fetch_sam_gov_opportunity_descriptions([all_opportunities[\u001b[32m0\u001b[39m]])\n",
      "\u001b[36mFile \u001b[39m\u001b[32m<string>:11\u001b[39m, in \u001b[36mfetch_sam_gov_opportunity_descriptions\u001b[39m\u001b[34m(opportunities)\u001b[39m\n",
      "\u001b[36mFile \u001b[39m\u001b[32m/workspace/.venv/lib/python3.12/site-packages/httpx/_models.py:829\u001b[39m, in \u001b[36mResponse.raise_for_status\u001b[39m\u001b[34m(self)\u001b[39m\n\u001b[32m    827\u001b[39m error_type = error_types.get(status_class, \u001b[33m\"\u001b[39m\u001b[33mInvalid status code\u001b[39m\u001b[33m\"\u001b[39m)\n\u001b[32m    828\u001b[39m message = message.format(\u001b[38;5;28mself\u001b[39m, error_type=error_type)\n\u001b[32m--> \u001b[39m\u001b[32m829\u001b[39m \u001b[38;5;28;01mraise\u001b[39;00m HTTPStatusError(message, request=request, response=\u001b[38;5;28mself\u001b[39m)\n",
      "\u001b[31mHTTPStatusError\u001b[39m: Client error '429 ' for url 'https://api.sam.gov/prod/opportunities/v1/noticedesc?api_key=5h62Faz1slrldZO4fAl5KqjPEaybBMLAXPUCidV1'\nFor more information check: https://developer.mozilla.org/en-US/docs/Web/HTTP/Status/429"
     ]
    }
   ],
   "source": [
    "all_opportunities[0]\n",
    "\n",
    "foo = await scrape_sam_gov.fetch_sam_gov_opportunity_descriptions([all_opportunities[0]])"
   ]
  },
  {
   "cell_type": "code",
   "execution_count": null,
   "metadata": {},
   "outputs": [],
   "source": []
  }
 ],
 "metadata": {
  "kernelspec": {
   "display_name": ".venv",
   "language": "python",
   "name": "python3"
  },
  "language_info": {
   "codemirror_mode": {
    "name": "ipython",
    "version": 3
   },
   "file_extension": ".py",
   "mimetype": "text/x-python",
   "name": "python",
   "nbconvert_exporter": "python",
   "pygments_lexer": "ipython3",
   "version": "3.12.10"
  }
 },
 "nbformat": 4,
 "nbformat_minor": 2
}
